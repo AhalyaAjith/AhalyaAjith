{
  "nbformat": 4,
  "nbformat_minor": 0,
  "metadata": {
    "colab": {
      "provenance": [],
      "authorship_tag": "ABX9TyM/mrbHwkD9MrFihgOJvz8V",
      "include_colab_link": true
    },
    "kernelspec": {
      "name": "python3",
      "display_name": "Python 3"
    },
    "language_info": {
      "name": "python"
    }
  },
  "cells": [
    {
      "cell_type": "markdown",
      "metadata": {
        "id": "view-in-github",
        "colab_type": "text"
      },
      "source": [
        "<a href=\"https://colab.research.google.com/github/AhalyaAjith/AhalyaAjith/blob/main/Copy_of_Untitled0.ipynb\" target=\"_parent\"><img src=\"https://colab.research.google.com/assets/colab-badge.svg\" alt=\"Open In Colab\"/></a>"
      ]
    },
    {
      "cell_type": "code",
      "execution_count": null,
      "metadata": {
        "colab": {
          "base_uri": "https://localhost:8080/"
        },
        "id": "h0UeL_scEpRi",
        "outputId": "61e6bb22-2350-4c22-8887-72857610aa18"
      },
      "outputs": [
        {
          "output_type": "stream",
          "name": "stdout",
          "text": [
            "hello\n"
          ]
        }
      ],
      "source": []
    },
    {
      "cell_type": "code",
      "source": [
        "l1=['good','fine','nice','happy','positive']\n",
        "l2=['bad','sad','tired','frustrated','not','negative']\n",
        "str1=input('enter your response')\n",
        "flag=0\n",
        "ncount=0\n",
        "t=str1.split()\n",
        "for i in range(len(t)):\n",
        "  for j in range(len(l1)):\n",
        "    if t[i]==l1[j]:\n",
        "      flag=1\n",
        "  for k in range(len(l2)):\n",
        "    if t[i]==l2[k]:\n",
        "      flag=1\n",
        "\n",
        "      ncount+=1\n",
        "if flag==0:\n",
        "  print('you are in another mood')\n",
        "elif ncount%2==0:\n",
        "  print('positive')\n",
        "else:\n",
        "  print('negative')"
      ],
      "metadata": {
        "colab": {
          "base_uri": "https://localhost:8080/"
        },
        "id": "G5YkBOl2GdZY",
        "outputId": "671523bc-e755-4a03-a8ca-e096ef973c6f"
      },
      "execution_count": null,
      "outputs": [
        {
          "output_type": "stream",
          "name": "stdout",
          "text": [
            "enter your responseam happy\n",
            "positive\n"
          ]
        }
      ]
    },
    {
      "cell_type": "code",
      "source": [
        "import matplotlib.pyplot as plt\n",
        "x=[1,12,22,21]\n",
        "y=[1,11,21,31]\n",
        "plt.scatter(x,y,ec=\"green\")\n",
        "plt.xlabel(\"age\")\n",
        "plt.ylabel(\"count\")\n",
        "plt.title(\"populate age count\")\n",
        "plt.show()"
      ],
      "metadata": {
        "colab": {
          "base_uri": "https://localhost:8080/",
          "height": 472
        },
        "id": "eUpMaBQPKyRj",
        "outputId": "8037686e-9369-48b9-8e84-bff3b356a7f0"
      },
      "execution_count": null,
      "outputs": [
        {
          "output_type": "display_data",
          "data": {
            "text/plain": [
              "<Figure size 640x480 with 1 Axes>"
            ],
            "image/png": "[encoded data removed]"
          },
          "metadata": {}
        }
      ]
    },
    {
      "cell_type": "code",
      "source": [
        "import numpy as np\n",
        "n1=np.array([10,20,30,40,50,60])\n",
        "print(np.mean(n1))\n",
        "print(np.median(n1))\n",
        "print(np.std(n1))\n",
        "type(n1)\n",
        "n1.shape\n",
        "n1[3]\n",
        "n2=np.array([[1,2,3],[4,5,6]])\n",
        "n2.shape\n",
        "np.random.randint(20,size=(2,2))"
      ],
      "metadata": {
        "colab": {
          "base_uri": "https://localhost:8080/"
        },
        "id": "66BOOt5HOUCZ",
        "outputId": "6856859b-b829-4259-e61a-58f9cb931c87"
      },
      "execution_count": null,
      "outputs": [
        {
          "output_type": "stream",
          "name": "stdout",
          "text": [
            "35.0\n",
            "35.0\n",
            "17.07825127659933\n"
          ]
        },
        {
          "output_type": "execute_result",
          "data": {
            "text/plain": [
              "array([[ 1,  3],\n",
              "       [ 2, 18]])"
            ]
          },
          "metadata": {},
          "execution_count": 19
        }
      ]
    },
    {
      "cell_type": "code",
      "source": [],
      "metadata": {
        "id": "De5V22MeY68I"
      },
      "execution_count": null,
      "outputs": []
    }
  ]
}